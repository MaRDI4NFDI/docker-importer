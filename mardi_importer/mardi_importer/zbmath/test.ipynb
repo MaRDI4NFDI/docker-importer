{
 "cells": [
  {
   "cell_type": "code",
   "execution_count": 1,
   "id": "a9d75243-c41f-44d0-920e-aea48523323d",
   "metadata": {},
   "outputs": [],
   "source": [
    "import pandas as pd"
   ]
  },
  {
   "cell_type": "code",
   "execution_count": 2,
   "id": "548d94d6-a769-4030-ac48-b2dc70d3aca3",
   "metadata": {},
   "outputs": [],
   "source": [
    "old_hash = pd.read_csv('../../../../zbmath_data_dump20231221-160126_hash.csv', sep='\\t')\n",
    "new_hash = pd.read_csv('../../../../zbmath_data_dump20240912-142641_hash.csv', sep='\\t')"
   ]
  },
  {
   "cell_type": "code",
   "execution_count": 3,
   "id": "522c3519-05bc-4a1a-b0b8-f93e16b1300c",
   "metadata": {},
   "outputs": [
    {
     "data": {
      "text/html": [
       "<div>\n",
       "<style scoped>\n",
       "    .dataframe tbody tr th:only-of-type {\n",
       "        vertical-align: middle;\n",
       "    }\n",
       "\n",
       "    .dataframe tbody tr th {\n",
       "        vertical-align: top;\n",
       "    }\n",
       "\n",
       "    .dataframe thead th {\n",
       "        text-align: right;\n",
       "    }\n",
       "</style>\n",
       "<table border=\"1\" class=\"dataframe\">\n",
       "  <thead>\n",
       "    <tr style=\"text-align: right;\">\n",
       "      <th></th>\n",
       "      <th>de_number</th>\n",
       "      <th>hash</th>\n",
       "    </tr>\n",
       "  </thead>\n",
       "  <tbody>\n",
       "    <tr>\n",
       "      <th>0</th>\n",
       "      <td>1566037</td>\n",
       "      <td>6578d05d3940f383218733320458fb64</td>\n",
       "    </tr>\n",
       "    <tr>\n",
       "      <th>1</th>\n",
       "      <td>1566038</td>\n",
       "      <td>b524023ed136022899ff1a489b9c2490</td>\n",
       "    </tr>\n",
       "    <tr>\n",
       "      <th>2</th>\n",
       "      <td>1566074</td>\n",
       "      <td>5f98990beb7752726a8d60009eb8bf7b</td>\n",
       "    </tr>\n",
       "    <tr>\n",
       "      <th>3</th>\n",
       "      <td>1566075</td>\n",
       "      <td>dc0bac2bdf24feb4b9cc200d934e1c51</td>\n",
       "    </tr>\n",
       "    <tr>\n",
       "      <th>4</th>\n",
       "      <td>1566076</td>\n",
       "      <td>bdebbfe424cf906ea2bb12593cb14401</td>\n",
       "    </tr>\n",
       "    <tr>\n",
       "      <th>...</th>\n",
       "      <td>...</td>\n",
       "      <td>...</td>\n",
       "    </tr>\n",
       "    <tr>\n",
       "      <th>4522288</th>\n",
       "      <td>7680989</td>\n",
       "      <td>562b654e56583762564d5ed579e74e15</td>\n",
       "    </tr>\n",
       "    <tr>\n",
       "      <th>4522289</th>\n",
       "      <td>46730</td>\n",
       "      <td>ccfcb6a81207b0821fdcb2a24caa2e92</td>\n",
       "    </tr>\n",
       "    <tr>\n",
       "      <th>4522290</th>\n",
       "      <td>3302617</td>\n",
       "      <td>d1c2673ec9bc0c7c77006a2a8b19f214</td>\n",
       "    </tr>\n",
       "    <tr>\n",
       "      <th>4522291</th>\n",
       "      <td>7569649</td>\n",
       "      <td>f378270dbe50f3e1888a96d720d130a6</td>\n",
       "    </tr>\n",
       "    <tr>\n",
       "      <th>4522292</th>\n",
       "      <td>7236782</td>\n",
       "      <td>4376953024274b27bde57bd9e8b5bb1d</td>\n",
       "    </tr>\n",
       "  </tbody>\n",
       "</table>\n",
       "<p>4522293 rows × 2 columns</p>\n",
       "</div>"
      ],
      "text/plain": [
       "         de_number                              hash\n",
       "0          1566037  6578d05d3940f383218733320458fb64\n",
       "1          1566038  b524023ed136022899ff1a489b9c2490\n",
       "2          1566074  5f98990beb7752726a8d60009eb8bf7b\n",
       "3          1566075  dc0bac2bdf24feb4b9cc200d934e1c51\n",
       "4          1566076  bdebbfe424cf906ea2bb12593cb14401\n",
       "...            ...                               ...\n",
       "4522288    7680989  562b654e56583762564d5ed579e74e15\n",
       "4522289      46730  ccfcb6a81207b0821fdcb2a24caa2e92\n",
       "4522290    3302617  d1c2673ec9bc0c7c77006a2a8b19f214\n",
       "4522291    7569649  f378270dbe50f3e1888a96d720d130a6\n",
       "4522292    7236782  4376953024274b27bde57bd9e8b5bb1d\n",
       "\n",
       "[4522293 rows x 2 columns]"
      ]
     },
     "execution_count": 3,
     "metadata": {},
     "output_type": "execute_result"
    }
   ],
   "source": [
    "old_hash"
   ]
  },
  {
   "cell_type": "code",
   "execution_count": 4,
   "id": "a8cef76e-9289-423c-8003-d5e995942865",
   "metadata": {},
   "outputs": [],
   "source": [
    "old_de = set(old_hash.de_number)\n",
    "new_de = set(new_hash.de_number)\n"
   ]
  },
  {
   "cell_type": "code",
   "execution_count": 5,
   "id": "87abadc3-1f29-4d50-86a0-2bb7428fd784",
   "metadata": {},
   "outputs": [],
   "source": [
    "old_ones_not_in_new = old_de - new_de \n",
    "new_ones_not_in_old = new_de - old_de"
   ]
  },
  {
   "cell_type": "code",
   "execution_count": 6,
   "id": "bfa3c1f3-428c-4a62-8dd8-41d97a4ac38e",
   "metadata": {},
   "outputs": [
    {
     "data": {
      "text/plain": [
       "2449"
      ]
     },
     "execution_count": 6,
     "metadata": {},
     "output_type": "execute_result"
    }
   ],
   "source": [
    "len(old_ones_not_in_new)"
   ]
  },
  {
   "cell_type": "code",
   "execution_count": 7,
   "id": "67390b83-32d9-42ad-b24a-7dfc4514da3e",
   "metadata": {},
   "outputs": [
    {
     "data": {
      "text/plain": [
       "319375"
      ]
     },
     "execution_count": 7,
     "metadata": {},
     "output_type": "execute_result"
    }
   ],
   "source": [
    "len(new_ones_not_in_old)"
   ]
  },
  {
   "cell_type": "code",
   "execution_count": 8,
   "id": "6c4797cb-f847-4211-8d0e-527a308d545c",
   "metadata": {},
   "outputs": [
    {
     "name": "stderr",
     "output_type": "stream",
     "text": [
      "/tmp/ipykernel_12357/3098516862.py:26: DtypeWarning: Columns (13) have mixed types. Specify dtype option on import or set low_memory=False.\n",
      "  for chunk in reader:\n",
      "/tmp/ipykernel_12357/3098516862.py:26: DtypeWarning: Columns (16,17) have mixed types. Specify dtype option on import or set low_memory=False.\n",
      "  for chunk in reader:\n",
      "/tmp/ipykernel_12357/3098516862.py:26: DtypeWarning: Columns (13) have mixed types. Specify dtype option on import or set low_memory=False.\n",
      "  for chunk in reader:\n",
      "/tmp/ipykernel_12357/3098516862.py:26: DtypeWarning: Columns (7,8,9,12,13,14,15,16,17) have mixed types. Specify dtype option on import or set low_memory=False.\n",
      "  for chunk in reader:\n"
     ]
    }
   ],
   "source": [
    "import csv\n",
    "import pandas as pd\n",
    "\n",
    "def read_de_numbers_csv(filename, de_column_name=\"de_number\"):\n",
    "    de_values = set()\n",
    "    with open(filename, \"r\", encoding=\"utf-8\") as f:\n",
    "        reader = csv.DictReader(f, delimiter=\"\\t\")\n",
    "        for row in reader:\n",
    "            de_values.add(row[de_column_name])\n",
    "    return de_values\n",
    "\n",
    "def subset_large_file_by_ids(\n",
    "    input_file, \n",
    "    output_file, \n",
    "    de_values, \n",
    "    id_column=\"de_number\", \n",
    "    chunksize=100000\n",
    "):\n",
    "    \"\"\"\n",
    "    Reads input_file in chunks, filters rows where id_column is in de_values,\n",
    "    and writes them to output_file without loading the entire file into memory.\n",
    "    \"\"\"\n",
    "    # You can tune chunksize depending on your memory constraints.\n",
    "    first_chunk = True\n",
    "    with pd.read_csv(input_file, sep='\\t', chunksize=chunksize) as reader:\n",
    "        for chunk in reader:\n",
    "            # Filter this chunk\n",
    "            chunk_filtered = chunk[chunk[id_column].isin(de_values)]\n",
    "            \n",
    "            # Write out the filtered rows\n",
    "            chunk_filtered.to_csv(\n",
    "                output_file,\n",
    "                sep='\\t',\n",
    "                index=False,\n",
    "                header=first_chunk,  # write header only for the first chunk\n",
    "                mode='a'             # append to the file\n",
    "            )\n",
    "            first_chunk = False\n",
    "\n",
    "old_file = '../../../../zbmath_data_dump20231221-160126_hash.csv'\n",
    "new_file = '../../../../zbmath_data_dump20240912-142641_hash.csv'\n",
    "new_data_file = '../../../../zbmath_data_dump20240912-142641.csv'\n",
    "old_name = old_file.split('/')[-1].split('-')[0]\n",
    "new_name = new_file.split('/')[-1].split('-')[0]\n",
    "old_de = read_de_numbers_csv(old_file)\n",
    "new_de = read_de_numbers_csv(new_file)\n",
    "\n",
    "old_ones_not_in_new = [int(x) for x in list(old_de - new_de)]\n",
    "new_ones_not_in_old = [int(x) for x in list(new_de - old_de)]\n",
    "with open(f'deleted_{old_name}_TO_{new_name}.tsv', 'a+') as f:\n",
    "    f.write(\"de_number\\n\")\n",
    "    for de in old_ones_not_in_new:\n",
    "        f.write(str(de)+'\\n')\n",
    "subset_large_file_by_ids(\n",
    "    input_file=new_data_file,\n",
    "    output_file=f'new_{old_name}_TO_{new_name}.tsv',\n",
    "    de_values=new_ones_not_in_old,\n",
    "    id_column=\"de_number\",\n",
    "    chunksize=100000\n",
    ")"
   ]
  },
  {
   "cell_type": "code",
   "execution_count": 9,
   "id": "4f47a3e0-3967-4839-b5af-ad99439da64a",
   "metadata": {},
   "outputs": [
    {
     "data": {
      "text/plain": [
       "2449"
      ]
     },
     "execution_count": 9,
     "metadata": {},
     "output_type": "execute_result"
    }
   ],
   "source": [
    "len(old_ones_not_in_new)"
   ]
  },
  {
   "cell_type": "code",
   "execution_count": 10,
   "id": "79317dbb-f8cb-4468-b9de-7c788e78d10b",
   "metadata": {},
   "outputs": [
    {
     "data": {
      "text/plain": [
       "319375"
      ]
     },
     "execution_count": 10,
     "metadata": {},
     "output_type": "execute_result"
    }
   ],
   "source": [
    "len(new_ones_not_in_old)"
   ]
  },
  {
   "cell_type": "code",
   "execution_count": 11,
   "id": "837ca38c-4180-4608-92bc-548b2a834b84",
   "metadata": {},
   "outputs": [
    {
     "data": {
      "text/plain": [
       "int"
      ]
     },
     "execution_count": 11,
     "metadata": {},
     "output_type": "execute_result"
    }
   ],
   "source": [
    "type(list(new_ones_not_in_old)[1])"
   ]
  },
  {
   "cell_type": "code",
   "execution_count": null,
   "id": "aba1af97-8039-47f4-afd6-a6bca0f49fa3",
   "metadata": {},
   "outputs": [],
   "source": []
  }
 ],
 "metadata": {
  "kernelspec": {
   "display_name": "Python 3 (ipykernel)",
   "language": "python",
   "name": "python3"
  },
  "language_info": {
   "codemirror_mode": {
    "name": "ipython",
    "version": 3
   },
   "file_extension": ".py",
   "mimetype": "text/x-python",
   "name": "python",
   "nbconvert_exporter": "python",
   "pygments_lexer": "ipython3",
   "version": "3.10.9"
  }
 },
 "nbformat": 4,
 "nbformat_minor": 5
}
